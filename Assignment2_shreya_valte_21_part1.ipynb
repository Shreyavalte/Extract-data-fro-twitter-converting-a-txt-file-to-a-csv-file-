{
  "nbformat": 4,
  "nbformat_minor": 0,
  "metadata": {
    "colab": {
      "name": "Assignment2_shreya_valte_21_part1.ipynb",
      "provenance": [],
      "collapsed_sections": []
    },
    "kernelspec": {
      "name": "python3",
      "display_name": "Python 3"
    },
    "language_info": {
      "name": "python"
    }
  },
  "cells": [
    {
      "cell_type": "code",
      "execution_count": null,
      "metadata": {
        "id": "gq4lWsFax9n1"
      },
      "outputs": [],
      "source": [
        "!pip install -q snscrape"
      ]
    },
    {
      "cell_type": "markdown",
      "source": [
        "#importing required modules\n"
      ],
      "metadata": {
        "id": "ZKRqFWdZyKf3"
      }
    },
    {
      "cell_type": "code",
      "source": [
        "import timeit\n",
        "import os \n",
        "import pandas as pd\n",
        "from datetime import date"
      ],
      "metadata": {
        "id": "Fa_uvmreyiiy"
      },
      "execution_count": null,
      "outputs": []
    },
    {
      "cell_type": "code",
      "source": [
        "today = date.today()\n",
        "end_date = today"
      ],
      "metadata": {
        "id": "JikVLmtNyoD8"
      },
      "execution_count": null,
      "outputs": []
    },
    {
      "cell_type": "code",
      "source": [
        "from_date = '2020-01-01'\n",
        "search_term=[\"aap\",\"bjp\",\"congress\",\"sp\",\"bsp\"]\n",
        "max_result=1500"
      ],
      "metadata": {
        "id": "xl9ejOFfytSz"
      },
      "execution_count": null,
      "outputs": []
    },
    {
      "cell_type": "markdown",
      "source": [
        "#Function to extract data from twitter"
      ],
      "metadata": {
        "id": "AZ94IvK0y2bC"
      }
    },
    {
      "cell_type": "code",
      "source": [
        "start=timeit.timeit()\n",
        "def extract(search_term):\n",
        "  os.system(\"snscrape --format '{content!r}'\"+ f\" --max-results {max_result} --since {from_date} twitter-search '{search_term} until:{end_date}' > {search_term}.txt\")\n",
        "for i in range(len(search_term)):\n",
        "  extract(search_term[i])\n",
        "end=timeit.timeit()\n",
        "print(\"Time taken:: \",end-start)"
      ],
      "metadata": {
        "colab": {
          "base_uri": "https://localhost:8080/"
        },
        "id": "0E_LB6lszBCN",
        "outputId": "e4b80f74-ba52-4eca-b7dc-7cb28a85fd8b"
      },
      "execution_count": null,
      "outputs": [
        {
          "output_type": "stream",
          "name": "stdout",
          "text": [
            "Time taken::  -0.0015073219999521825\n"
          ]
        }
      ]
    },
    {
      "cell_type": "markdown",
      "source": [
        "#function to convert multiple txt file to a single txt file"
      ],
      "metadata": {
        "id": "Cdql_3WDzOoX"
      }
    },
    {
      "cell_type": "code",
      "source": [
        "start=timeit.timeit()\n",
        "text_files=['aap.txt','bjp.txt','bsp.txt','congress.txt','sp.txt']\n",
        "def merge_text_files(text_files):\n",
        "  with open('text.txt', 'w') as outfile:\n",
        "    for i in text_files:\n",
        "      with open(i) as infile:\n",
        "        for line in infile:\n",
        "          outfile.write(line)\n",
        "merge_text_files(text_files)\n",
        "end=timeit.timeit()\n",
        "print(\"Time taken:: \",end-start)"
      ],
      "metadata": {
        "colab": {
          "base_uri": "https://localhost:8080/"
        },
        "id": "1P7FXQ__zSkg",
        "outputId": "53e43725-294b-4810-db96-8c97bde687ff"
      },
      "execution_count": null,
      "outputs": [
        {
          "output_type": "stream",
          "name": "stdout",
          "text": [
            "Time taken::  -0.003096863999985544\n"
          ]
        }
      ]
    },
    {
      "cell_type": "code",
      "source": [
        "import pandas as pd\n",
        "df = pd.read_csv(\"text.txt\", header=None, \n",
        "                 names=[\"Text\"])"
      ],
      "metadata": {
        "id": "FprR0motzXIP"
      },
      "execution_count": null,
      "outputs": []
    },
    {
      "cell_type": "markdown",
      "source": [
        "#converting a txt file to a csv file"
      ],
      "metadata": {
        "id": "zk6FZWxtzbJ5"
      }
    },
    {
      "cell_type": "code",
      "source": [
        "df.to_csv(\"text.csv\")"
      ],
      "metadata": {
        "id": "Tci-hbCyziIe"
      },
      "execution_count": null,
      "outputs": []
    },
    {
      "cell_type": "code",
      "source": [
        "df.isnull().sum()"
      ],
      "metadata": {
        "colab": {
          "base_uri": "https://localhost:8080/"
        },
        "id": "rcnyx6NKzlNc",
        "outputId": "d9d25a6d-3654-4124-b0b3-9f27dbb31c85"
      },
      "execution_count": null,
      "outputs": [
        {
          "output_type": "execute_result",
          "data": {
            "text/plain": [
              "Text    0\n",
              "dtype: int64"
            ]
          },
          "metadata": {},
          "execution_count": 10
        }
      ]
    }
  ]
}